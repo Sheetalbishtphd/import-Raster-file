{
 "cells": [
  {
   "cell_type": "code",
   "execution_count": null,
   "id": "ec123d84-0214-43fe-8b3e-3466976c0ebb",
   "metadata": {
    "execution": {
     "iopub.execute_input": "2023-12-22T10:08:39.415814Z",
     "iopub.status.busy": "2023-12-22T10:08:39.414897Z",
     "iopub.status.idle": "2023-12-22T10:08:52.213904Z",
     "shell.execute_reply": "2023-12-22T10:08:52.213530Z",
     "shell.execute_reply.started": "2023-12-22T10:08:39.415714Z"
    },
    "tags": []
   },
   "outputs": [
    {
     "ename": "",
     "evalue": "",
     "output_type": "error",
     "traceback": [
      "\u001b[1;31mFailed to start the Kernel. \n",
      "\u001b[1;31mKernel Python 3.9.6 is not usable. Check the Jupyter output tab for more information. \n",
      "\u001b[1;31mView Jupyter <a href='command:jupyter.viewOutput'>log</a> for further details."
     ]
    }
   ],
   "source": [
    "import os\n",
    "from glob import glob\n",
    "import matplotlib.pyplot as plt\n",
    "import rasterio as rio\n",
    "from rasterio.plot import plotting_extent\n",
    "import geopandas as gpd\n",
    "\n",
    "import earthpy as et\n",
    "import earthpy.spatial as es\n",
    "import earthpy.plot as ep\n",
    "from rasterio.plot import show\n",
    "%matplotlib inline\n",
    "import pandas as pd\n",
    "from PIL import Image\n",
    "import numpy as np\n",
    "import rasterstats as rs\n",
    "\n",
    "import numpy as np\n",
    "import pandas as pd"
   ]
  },
  {
   "cell_type": "code",
   "execution_count": null,
   "id": "fa399504",
   "metadata": {},
   "outputs": [],
   "source": []
  },
  {
   "cell_type": "code",
   "execution_count": 2,
   "id": "33f1ffd3-5e5c-4c22-a24c-483e357d62f7",
   "metadata": {
    "execution": {
     "iopub.execute_input": "2023-12-22T10:09:10.993536Z",
     "iopub.status.busy": "2023-12-22T10:09:10.991250Z",
     "iopub.status.idle": "2023-12-22T10:09:11.138092Z",
     "shell.execute_reply": "2023-12-22T10:09:11.137678Z",
     "shell.execute_reply.started": "2023-12-22T10:09:10.993420Z"
    },
    "tags": []
   },
   "outputs": [],
   "source": [
    "im = rio.open(\"11para_re.tif\")"
   ]
  },
  {
   "cell_type": "code",
   "execution_count": 3,
   "id": "3dbd6234-9d9c-410c-a27b-e1e556e6c3bf",
   "metadata": {
    "execution": {
     "iopub.execute_input": "2023-12-22T10:09:23.892898Z",
     "iopub.status.busy": "2023-12-22T10:09:23.892349Z",
     "iopub.status.idle": "2023-12-22T10:09:24.428829Z",
     "shell.execute_reply": "2023-12-22T10:09:24.428458Z",
     "shell.execute_reply.started": "2023-12-22T10:09:23.892824Z"
    },
    "tags": []
   },
   "outputs": [
    {
     "data": {
      "image/png": "[encoded data removed]",
      "text/plain": [
       "<Figure size 640x480 with 1 Axes>"
      ]
     },
     "metadata": {},
     "output_type": "display_data"
    },
    {
     "data": {
      "text/plain": [
       "<AxesSubplot: >"
      ]
     },
     "execution_count": 3,
     "metadata": {},
     "output_type": "execute_result"
    }
   ],
   "source": [
    "show(im)"
   ]
  },
  {
   "cell_type": "code",
   "execution_count": null,
   "id": "9c020871-8d98-4cd5-b188-27abb3c071b3",
   "metadata": {},
   "outputs": [],
   "source": [
    "fp = \"11para_re.tif\""
   ]
  },
  {
   "cell_type": "code",
   "execution_count": null,
   "id": "52630320-34d6-4938-a65a-fd22c91e350e",
   "metadata": {},
   "outputs": [],
   "source": [
    "with rio.open(fp) as src:\n",
    "    landsat_multi = src.read()"
   ]
  },
  {
   "cell_type": "code",
   "execution_count": null,
   "id": "d2ccb26d-a793-47ae-919d-546e91e295e1",
   "metadata": {},
   "outputs": [],
   "source": [
    "landsat_multi[1]\n",
    "#df = pd.DataFrame(landsat_multi[1])\n",
    "#df.to_csv(\"py_slope.csv\")"
   ]
  },
  {
   "cell_type": "code",
   "execution_count": null,
   "id": "f843478b-8850-4003-be65-2c98909af20a",
   "metadata": {},
   "outputs": [],
   "source": [
    "#for column in range(600,800):\n",
    "#    print(landsat_multi[1][1000][column])\n",
    "\n",
    "landsat_multi.shape"
   ]
  },
  {
   "cell_type": "code",
   "execution_count": null,
   "id": "cac6d1e0-89a0-407b-ba77-0936fa444d9c",
   "metadata": {},
   "outputs": [],
   "source": [
    "ep.plot_bands(landsat_multi,cbar=False)\n",
    "plt.show()"
   ]
  },
  {
   "cell_type": "code",
   "execution_count": null,
   "id": "099115e7",
   "metadata": {},
   "outputs": [],
   "source": [
    "# all composite files are imported.\n",
    "# End # "
   ]
  }
 ],
 "metadata": {
  "kernelspec": {
   "display_name": "Python 3",
   "language": "python",
   "name": "python3"
  },
  "language_info": {
   "codemirror_mode": {
    "name": "ipython",
    "version": 3
   },
   "file_extension": ".py",
   "mimetype": "text/x-python",
   "name": "python",
   "nbconvert_exporter": "python",
   "pygments_lexer": "ipython3",
   "version": "3.9.6 (default, Oct 18 2022, 12:41:40) \n[Clang 14.0.0 (clang-1400.0.29.202)]"
  },
  "vscode": {
   "interpreter": {
    "hash": "31f2aee4e71d21fbe5cf8b01ff0e069b9275f58929596ceb00d14d90e3e16cd6"
   }
  }
 },
 "nbformat": 4,
 "nbformat_minor": 5
}
